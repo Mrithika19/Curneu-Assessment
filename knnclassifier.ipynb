{
 "cells": [
  {
   "cell_type": "markdown",
   "metadata": {},
   "source": [
    "Importing the libaries"
   ]
  },
  {
   "cell_type": "code",
   "execution_count": 163,
   "metadata": {},
   "outputs": [],
   "source": [
    "import pandas as pd\n",
    "import numpy as py\n",
    "import matplotlib.pyplot as plt\n",
    "import seaborn as sns\n",
    "import math\n",
    "from sklearn.ensemble import ExtraTreesClassifier"
   ]
  },
  {
   "cell_type": "code",
   "execution_count": 164,
   "metadata": {
    "scrolled": true
   },
   "outputs": [
    {
     "name": "stdout",
     "output_type": "stream",
     "text": [
      "    fruit_label fruit_name  mass  width  height  color_score\n",
      "0             1      apple   192    8.4     7.3         0.55\n",
      "1             1      apple   180    8.0     6.8         0.59\n",
      "2             1      apple   176    7.4     7.2         0.60\n",
      "3             2   mandarin    86    6.2     4.7         0.80\n",
      "4             2   mandarin    84    6.0     4.6         0.79\n",
      "5             2   mandarin    80    5.8     4.3         0.77\n",
      "6             2   mandarin    80    5.9     4.3         0.81\n",
      "7             2   mandarin    76    5.8     4.0         0.81\n",
      "8             1      apple   178    7.1     7.8         0.92\n",
      "9             1      apple   172    7.4     7.0         0.89\n",
      "10            1      apple   166    6.9     7.3         0.93\n",
      "11            1      apple   172    7.1     7.6         0.92\n",
      "12            1      apple   154    7.0     7.1         0.88\n",
      "13            1      apple   164    7.3     7.7         0.70\n",
      "14            1      apple   152    7.6     7.3         0.69\n",
      "15            1      apple   156    7.7     7.1         0.69\n",
      "16            1      apple   156    7.6     7.5         0.67\n",
      "17            1      apple   168    7.5     7.6         0.73\n",
      "18            1      apple   162    7.5     7.1         0.83\n",
      "19            1      apple   162    7.4     7.2         0.85\n",
      "20            1      apple   160    7.5     7.5         0.86\n",
      "21            1      apple   156    7.4     7.4         0.84\n",
      "22            1      apple   140    7.3     7.1         0.87\n",
      "23            1      apple   170    7.6     7.9         0.88\n",
      "24            3     orange   342    9.0     9.4         0.75\n",
      "25            3     orange   356    9.2     9.2         0.75\n",
      "26            3     orange   362    9.6     9.2         0.74\n",
      "27            3     orange   204    7.5     9.2         0.77\n",
      "28            3     orange   140    6.7     7.1         0.72\n",
      "29            3     orange   160    7.0     7.4         0.81\n",
      "30            3     orange   158    7.1     7.5         0.79\n",
      "31            3     orange   210    7.8     8.0         0.82\n",
      "32            3     orange   164    7.2     7.0         0.80\n",
      "33            3     orange   190    7.5     8.1         0.74\n",
      "34            3     orange   142    7.6     7.8         0.75\n",
      "35            3     orange   150    7.1     7.9         0.75\n",
      "36            3     orange   160    7.1     7.6         0.76\n",
      "37            3     orange   154    7.3     7.3         0.79\n",
      "38            3     orange   158    7.2     7.8         0.77\n",
      "39            3     orange   144    6.8     7.4         0.75\n",
      "40            3     orange   154    7.1     7.5         0.78\n",
      "41            3     orange   180    7.6     8.2         0.79\n",
      "42            3     orange   154    7.2     7.2         0.82\n",
      "43            4      lemon   194    7.2    10.3         0.70\n",
      "44            4      lemon   200    7.3    10.5         0.72\n",
      "45            4      lemon   186    7.2     9.2         0.72\n",
      "46            4      lemon   216    7.3    10.2         0.71\n",
      "47            4      lemon   196    7.3     9.7         0.72\n",
      "48            4      lemon   174    7.3    10.1         0.72\n",
      "49            4      lemon   132    5.8     8.7         0.73\n",
      "50            4      lemon   130    6.0     8.2         0.71\n",
      "51            4      lemon   116    6.0     7.5         0.72\n",
      "52            4      lemon   118    5.9     8.0         0.72\n",
      "53            4      lemon   120    6.0     8.4         0.74\n",
      "54            4      lemon   116    6.1     8.5         0.71\n",
      "55            4      lemon   116    6.3     7.7         0.72\n",
      "56            4      lemon   116    5.9     8.1         0.73\n",
      "57            4      lemon   152    6.5     8.5         0.72\n",
      "58            4      lemon   118    6.1     8.1         0.70\n"
     ]
    }
   ],
   "source": [
    "f_data = pd.read_excel(r'C:\\Users\\S.MIRTHIKA\\Documents\\SD03Q07\\fruits.xlsx',header=0)\n",
    "print (data)"
   ]
  },
  {
   "cell_type": "code",
   "execution_count": 165,
   "metadata": {
    "scrolled": true
   },
   "outputs": [
    {
     "data": {
      "image/png": "[encoded data removed]",
      "text/plain": [
       "<Figure size 360x360 with 1 Axes>"
      ]
     },
     "metadata": {
      "needs_background": "light"
     },
     "output_type": "display_data"
    }
   ],
   "source": [
    "sns.lmplot(x=\"width\",y=\"height\",data=f_data,fit_reg=False,hue='fruit_name',legend=False,palette=dict(apple=\"#e84938\",mandarin=\"#fcdd97\",orange=\"#e8b038\",lemon=\"#f1f740\"))\n",
    "plt.legend(loc='lower right')\n",
    "plt.show()"
   ]
  },
  {
   "cell_type": "code",
   "execution_count": 166,
   "metadata": {},
   "outputs": [
    {
     "data": {
      "image/png": "[encoded data removed]",
      "text/plain": [
       "<Figure size 360x360 with 1 Axes>"
      ]
     },
     "metadata": {
      "needs_background": "light"
     },
     "output_type": "display_data"
    }
   ],
   "source": [
    "sns.lmplot(x=\"color_score\",y=\"mass\",data=f_data,fit_reg=False,hue='fruit_name',legend=False,palette=dict(apple=\"#e84938\",mandarin=\"#fcdd97\",orange=\"#e8b038\",lemon=\"#f1f740\"))\n",
    "plt.legend(loc='upper right')\n",
    "plt.show()"
   ]
  },
  {
   "cell_type": "code",
   "execution_count": 167,
   "metadata": {},
   "outputs": [
    {
     "name": "stdout",
     "output_type": "stream",
     "text": [
      "  Feature_Name      Score\n",
      "2       height  53.453630\n",
      "1        width  17.074845\n",
      "0         mass   8.198281\n",
      "3  color_score   2.916698\n"
     ]
    }
   ],
   "source": [
    "from sklearn.feature_selection import SelectKBest\n",
    "from sklearn.feature_selection import f_classif\n",
    "\n",
    "drop_cols=['fruit_name','fruit_label']\n",
    "X = f_data.drop(drop_cols, axis = 1) \n",
    "y = f_data['fruit_name'] \n",
    "\n",
    "best_features = SelectKBest(score_func=f_classif, k=4)\n",
    "fit = best_features.fit(X,y)\n",
    "df_scores = pd.DataFrame(fit.scores_)\n",
    "df_columns = pd.DataFrame(X.columns)\n",
    "\n",
    "feature_scores = pd.concat([df_columns, df_scores],axis=1)\n",
    "feature_scores.columns = ['Feature_Name','Score']  \n",
    "print(feature_scores.nlargest(4,'Score')) \n",
    "\n",
    "df_univ_feat = feature_scores.nlargest(4,'Score')\n",
    "df_univ_feat.to_csv('feature_selection_UNIVARIATE.csv', index=False)"
   ]
  },
  {
   "cell_type": "code",
   "execution_count": 168,
   "metadata": {
    "scrolled": true
   },
   "outputs": [
    {
     "name": "stdout",
     "output_type": "stream",
     "text": [
      "[0.27692447 0.39195489 0.33112064]\n"
     ]
    },
    {
     "data": {
      "image/png": "[encoded data removed]",
      "text/plain": [
       "<Figure size 432x288 with 1 Axes>"
      ]
     },
     "metadata": {
      "needs_background": "light"
     },
     "output_type": "display_data"
    }
   ],
   "source": [
    "X = data.iloc[:,2:5] \n",
    "y = data.iloc[:,1]   \n",
    "\n",
    "model = ExtraTreesClassifier()\n",
    "model.fit(X,y)\n",
    "print(model.feature_importances_) \n",
    "\n",
    "feat_importances = pd.Series(model.feature_importances_, index=X.columns)\n",
    "feat_importances.nlargest(3).plot(kind='barh')\n",
    "plt.show()"
   ]
  },
  {
   "cell_type": "code",
   "execution_count": 187,
   "metadata": {},
   "outputs": [
    {
     "name": "stdout",
     "output_type": "stream",
     "text": [
      "[4L, 1L, 1L, 4L, 3L, 3L, 1L, 3L, 4L, 4L, 3L, 1L, 1L, 3L, 4L, 1L, 3L, 3L]\n"
     ]
    },
    {
     "name": "stderr",
     "output_type": "stream",
     "text": [
      "C:\\Users\\S.MIRTHIKA\\Documents\\Anaconda\\lib\\site-packages\\ipykernel_launcher.py:11: DataConversionWarning: Data with input dtype int64, float64 were all converted to float64 by StandardScaler.\n",
      "  # This is added back by InteractiveShellApp.init_path()\n"
     ]
    }
   ],
   "source": [
    "from math import sqrt\n",
    "from sklearn.model_selection import train_test_split\n",
    "from sklearn.preprocessing import StandardScaler\n",
    "\n",
    "X = data.iloc[:,2:4] \n",
    "y = data.iloc[:,0]\n",
    "X_train, X_test, y_train, y_test = train_test_split(X, y, test_size=0.3)\n",
    "\n",
    "scaler = StandardScaler()\n",
    "X_train = scaler.fit_transform(X_train)\n",
    "X_test = scaler.transform(X_test)\n",
    "\n",
    "def minkowski_distance(a, b, p=2):\n",
    "    \n",
    "    dim = len(a)\n",
    "    \n",
    "    distance = 0\n",
    "    d=1\n",
    "   \n",
    "    for d in range(dim):\n",
    "        distance += abs(a[d] - b[d])**p\n",
    "        \n",
    "    distance = distance**(1/p)\n",
    "    \n",
    "    return distance\n",
    "\n",
    "def knn_predict(X_train, X_test, y_train, y_test, k, p):\n",
    "    \n",
    "    \n",
    "    from collections import Counter\n",
    "    \n",
    "    y_hat_test = []\n",
    "\n",
    "    for test_point in X_test:\n",
    "        distances = []\n",
    "\n",
    "        for train_point in X_train:\n",
    "            distance = minkowski_distance(test_point, train_point, p=p)\n",
    "            distances.append(distance)\n",
    "        \n",
    "        df_dists = pd.DataFrame(data=distances, columns=['dist'], \n",
    "                                index=y_train.index)\n",
    "        \n",
    "        df_nn = df_dists.sort_values(by=['dist'], axis=0)[:k]\n",
    "\n",
    "        counter = Counter(y_train[df_nn.index])\n",
    "\n",
    "        prediction = counter.most_common()[0][0]\n",
    "        \n",
    "        y_hat_test.append(prediction)\n",
    "        \n",
    "    return y_hat_test\n",
    "\n",
    "\n",
    "y_hat_test = knn_predict(X_train, X_test, y_train, y_test, k=4, p=1)\n",
    "\n",
    "print(y_hat_test)"
   ]
  },
  {
   "cell_type": "code",
   "execution_count": 188,
   "metadata": {},
   "outputs": [
    {
     "name": "stdout",
     "output_type": "stream",
     "text": [
      "0.6666666666666666\n"
     ]
    }
   ],
   "source": [
    "\n",
    "from sklearn.metrics import accuracy_score\n",
    "\n",
    "print(accuracy_score(y_test, y_hat_test))"
   ]
  },
  {
   "cell_type": "code",
   "execution_count": 198,
   "metadata": {},
   "outputs": [
    {
     "name": "stdout",
     "output_type": "stream",
     "text": [
      "0.6666666666666666\n"
     ]
    }
   ],
   "source": [
    "from sklearn.neighbors import KNeighborsClassifier\n",
    "\n",
    "clf = KNeighborsClassifier(n_neighbors=4, p=1)\n",
    "clf.fit(X_train, y_train)\n",
    "y_pred_test = clf.predict(X_test)\n",
    "result=accuracy_score(y_test, y_pred_test)\n",
    "print(result)"
   ]
  },
  {
   "cell_type": "code",
   "execution_count": 199,
   "metadata": {},
   "outputs": [
    {
     "data": {
      "image/png": "[encoded data removed]",
      "text/plain": [
       "<Figure size 576x432 with 1 Axes>"
      ]
     },
     "metadata": {
      "needs_background": "light"
     },
     "output_type": "display_data"
    }
   ],
   "source": [
    "accuracies = []\n",
    "\n",
    "for k in range(1,100):\n",
    "    y_hat_test = knn_predict(X_train, X_test, y_train, y_test, k, p=1)\n",
    "    accuracies.append(accuracy_score(y_test, y_hat_test))\n",
    "\n",
    "\n",
    "fig, ax = plt.subplots(figsize=(8,6))\n",
    "ax.plot(range(1,100), accuracies)\n",
    "ax.set_xlabel('# of Nearest Neighbors (k)')\n",
    "ax.set_ylabel('Accuracy (%)');"
   ]
  },
  {
   "cell_type": "code",
   "execution_count": null,
   "metadata": {},
   "outputs": [],
   "source": []
  }
 ],
 "metadata": {
  "kernelspec": {
   "display_name": "Python 2",
   "language": "python",
   "name": "python2"
  },
  "language_info": {
   "codemirror_mode": {
    "name": "ipython",
    "version": 2
   },
   "file_extension": ".py",
   "mimetype": "text/x-python",
   "name": "python",
   "nbconvert_exporter": "python",
   "pygments_lexer": "ipython2",
   "version": "2.7.16"
  }
 },
 "nbformat": 4,
 "nbformat_minor": 2
}
